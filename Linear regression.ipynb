{
 "cells": [
  {
   "cell_type": "code",
   "execution_count": 1,
   "id": "896e3a6b",
   "metadata": {},
   "outputs": [],
   "source": [
    "# generating fake data\n",
    "from sklearn.datasets import make_regression\n",
    "X,y= make_regression(n_samples=400, n_features=1, n_informative=1, noise=6, bias=30)\n",
    "m=200"
   ]
  },
  {
   "cell_type": "markdown",
   "id": "2f2a4517",
   "metadata": {},
   "source": [
    "# Visualizing data"
   ]
  },
  {
   "cell_type": "code",
   "execution_count": 2,
   "id": "9a186588",
   "metadata": {},
   "outputs": [
    {
     "data": {
      "image/png": "[encoded data removed]",
      "text/plain": [
       "<Figure size 432x288 with 1 Axes>"
      ]
     },
     "metadata": {
      "needs_background": "light"
     },
     "output_type": "display_data"
    }
   ],
   "source": [
    "import matplotlib.pyplot as plt\n",
    "plt.scatter(X, y, c=\"red\", alpha=0.5, marker=\"o\")\n",
    "plt.xlabel(\"X\")\n",
    "plt.ylabel(\"y\")\n",
    "plt.show()"
   ]
  },
  {
   "cell_type": "markdown",
   "id": "d49f1a6c",
   "metadata": {},
   "source": [
    "# Linear model function\n",
    "\n",
    "#########Using vectorized format########"
   ]
  },
  {
   "cell_type": "code",
   "execution_count": 3,
   "id": "f88ae9f8",
   "metadata": {},
   "outputs": [],
   "source": [
    "import numpy as np\n",
    "\n",
    "def LM(w):\n",
    "    return (w[1]*(np.array(X[:,0]))+w[0])"
   ]
  },
  {
   "cell_type": "markdown",
   "id": "fc8833ac",
   "metadata": {},
   "source": [
    "# Cost function"
   ]
  },
  {
   "cell_type": "code",
   "execution_count": 4,
   "id": "76da1853",
   "metadata": {},
   "outputs": [],
   "source": [
    "def cost(w):\n",
    "    return (np.sum(np.square(LM(w)-np.array(y))) / (2*m))"
   ]
  },
  {
   "cell_type": "markdown",
   "id": "7d1e109f",
   "metadata": {},
   "source": [
    "# Gradient descent"
   ]
  },
  {
   "cell_type": "code",
   "execution_count": 5,
   "id": "ca617f39",
   "metadata": {},
   "outputs": [],
   "source": [
    "def gradient(w):\n",
    "    g=[0]*2 # This is how to initialise arrays.\n",
    "    g[0]= np.sum(LM(w)-np.array(y))/m\n",
    "    g[1]= (np.sum((LM(w)-np.array(y))*np.array(X[:,0])))/m\n",
    "    return g"
   ]
  },
  {
   "cell_type": "markdown",
   "id": "c2ce898f",
   "metadata": {},
   "source": [
    "# Norms have been used below to limit the number of iterations.\n",
    "2 norms to be specific."
   ]
  },
  {
   "cell_type": "code",
   "execution_count": 12,
   "id": "8a521ffb",
   "metadata": {},
   "outputs": [],
   "source": [
    "def descent(w_prev, w_new, lr):         \n",
    "    j=0\n",
    "    \n",
    "    print(w_prev)\n",
    "    print(w_new)\n",
    "    \n",
    "    while True:\n",
    "           \n",
    "        w_prev=w_new[:]        \n",
    "           \n",
    "        w_new[0]=w_prev[0]- lr*gradient(w_prev)[0]\n",
    "        w_new[1]=w_prev[1]- lr*gradient(w_prev)[1]\n",
    "                                \n",
    "        print(w_prev)\n",
    "        print(w_new)        \n",
    "        print(lr*gradient(w_prev)[0])\n",
    "        print(lr*gradient(w_prev)[1])\n",
    "        \n",
    "        if ((w_new[0]-w_prev[0])**2 + (w_new[1]-w_prev[1])**2) <= pow(10,-6):                        \n",
    "            print(\"The lowest value of cost function is\",cost(w_new))\n",
    "            print(\"And the corresponding weights are\",w_new)\n",
    "            return w_new\n",
    "        elif j>500:\n",
    "            return w_new       \n",
    "        j+=1    "
   ]
  },
  {
   "cell_type": "code",
   "execution_count": 10,
   "id": "0f8d16c2",
   "metadata": {},
   "outputs": [
    {
     "name": "stdout",
     "output_type": "stream",
     "text": [
      "[0, -1]\n",
      "[0, -1]\n",
      "[0, -1]\n",
      "[19.92309597051585, 31.74652742239428]\n",
      "-19.92309597051585\n",
      "-32.74652742239428\n",
      "[19.92309597051585, 31.74652742239428]\n",
      "[26.56605214086556, 43.34175931899468]\n",
      "-6.642956170349708\n",
      "-11.595231896600405\n",
      "[26.56605214086556, 43.34175931899468]\n",
      "[28.753610771399128, 47.46419120737737]\n",
      "-2.187558630533571\n",
      "-4.122431888382683\n",
      "[28.753610771399128, 47.46419120737737]\n",
      "[29.461669707425475, 48.936887321659945]\n",
      "-0.7080589360263475\n",
      "-1.4726961142825803\n",
      "[29.461669707425475, 48.936887321659945]\n",
      "[29.685246936943155, 49.465966530957274]\n",
      "-0.22357722951768172\n",
      "-0.5290792092973261\n",
      "[29.685246936943155, 49.465966530957274]\n",
      "[29.753249347553506, 49.657290368939115]\n",
      "-0.06800241061035157\n",
      "-0.19132383798184294\n",
      "[29.753249347553506, 49.657290368939115]\n",
      "[29.772701416750113, 49.72699656498968]\n",
      "-0.019452069196605443\n",
      "-0.06970619605056934\n",
      "[29.772701416750113, 49.72699656498968]\n",
      "[29.777659041616932, 49.75260867048429]\n",
      "-0.004957624866819869\n",
      "-0.025612105494607778\n",
      "[29.777659041616932, 49.75260867048429]\n",
      "[29.778604763860443, 49.762107994435134]\n",
      "-0.0009457222435125736\n",
      "-0.009499323950843859\n",
      "[29.778604763860443, 49.762107994435134]\n",
      "[29.7785983162551, 49.765667385946806]\n",
      "6.447605343261386e-06\n",
      "-0.0035593915116731993\n",
      "[29.7785983162551, 49.765667385946806]\n",
      "[29.778451576654884, 49.76701570130853]\n",
      "0.0001467396002142962\n",
      "-0.0013483153617241009\n",
      "[29.778451576654884, 49.76701570130853]\n",
      "[29.77833827207216, 49.76753229418]\n",
      "0.00011330458272460929\n",
      "-0.0005165928714690562\n",
      "The lowest value of cost function is 31.056590934270453\n",
      "And the corresponding weights are [29.77833827207216, 49.76753229418]\n"
     ]
    },
    {
     "data": {
      "text/plain": [
       "[29.77833827207216, 49.76753229418]"
      ]
     },
     "execution_count": 10,
     "metadata": {},
     "output_type": "execute_result"
    }
   ],
   "source": [
    "descent([0,-1],[0,-1],.3)"
   ]
  }
 ],
 "metadata": {
  "kernelspec": {
   "display_name": "Python 3",
   "language": "python",
   "name": "python3"
  },
  "language_info": {
   "codemirror_mode": {
    "name": "ipython",
    "version": 3
   },
   "file_extension": ".py",
   "mimetype": "text/x-python",
   "name": "python",
   "nbconvert_exporter": "python",
   "pygments_lexer": "ipython3",
   "version": "3.8.8"
  }
 },
 "nbformat": 4,
 "nbformat_minor": 5
}
