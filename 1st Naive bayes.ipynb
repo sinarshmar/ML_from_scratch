{
 "cells": [
  {
   "cell_type": "markdown",
   "id": "658eb1f7",
   "metadata": {},
   "source": [
    "Tools"
   ]
  },
  {
   "cell_type": "code",
   "execution_count": 41,
   "id": "ba67bc0f",
   "metadata": {},
   "outputs": [],
   "source": [
    "import numpy as np\n",
    "import pandas as pd\n",
    "import matplotlib.pyplot as plt\n",
    "import seaborn as sns"
   ]
  },
  {
   "cell_type": "markdown",
   "id": "05e5e4f8",
   "metadata": {},
   "source": [
    "Dataset"
   ]
  },
  {
   "cell_type": "code",
   "execution_count": 42,
   "id": "6bc80b11",
   "metadata": {},
   "outputs": [],
   "source": [
    "df=pd.read_csv(\"E:\\\\New journey\\\\Datasets\\\\Breast_cancer_data.csv\")"
   ]
  },
  {
   "cell_type": "code",
   "execution_count": 43,
   "id": "9e4f5aa9",
   "metadata": {},
   "outputs": [
    {
     "data": {
      "text/html": [
       "<div>\n",
       "<style scoped>\n",
       "    .dataframe tbody tr th:only-of-type {\n",
       "        vertical-align: middle;\n",
       "    }\n",
       "\n",
       "    .dataframe tbody tr th {\n",
       "        vertical-align: top;\n",
       "    }\n",
       "\n",
       "    .dataframe thead th {\n",
       "        text-align: right;\n",
       "    }\n",
       "</style>\n",
       "<table border=\"1\" class=\"dataframe\">\n",
       "  <thead>\n",
       "    <tr style=\"text-align: right;\">\n",
       "      <th></th>\n",
       "      <th>mean_radius</th>\n",
       "      <th>mean_texture</th>\n",
       "      <th>mean_perimeter</th>\n",
       "      <th>mean_area</th>\n",
       "      <th>mean_smoothness</th>\n",
       "      <th>diagnosis</th>\n",
       "    </tr>\n",
       "  </thead>\n",
       "  <tbody>\n",
       "    <tr>\n",
       "      <th>0</th>\n",
       "      <td>17.99</td>\n",
       "      <td>10.38</td>\n",
       "      <td>122.80</td>\n",
       "      <td>1001.0</td>\n",
       "      <td>0.11840</td>\n",
       "      <td>0</td>\n",
       "    </tr>\n",
       "    <tr>\n",
       "      <th>1</th>\n",
       "      <td>20.57</td>\n",
       "      <td>17.77</td>\n",
       "      <td>132.90</td>\n",
       "      <td>1326.0</td>\n",
       "      <td>0.08474</td>\n",
       "      <td>0</td>\n",
       "    </tr>\n",
       "    <tr>\n",
       "      <th>2</th>\n",
       "      <td>19.69</td>\n",
       "      <td>21.25</td>\n",
       "      <td>130.00</td>\n",
       "      <td>1203.0</td>\n",
       "      <td>0.10960</td>\n",
       "      <td>0</td>\n",
       "    </tr>\n",
       "    <tr>\n",
       "      <th>3</th>\n",
       "      <td>11.42</td>\n",
       "      <td>20.38</td>\n",
       "      <td>77.58</td>\n",
       "      <td>386.1</td>\n",
       "      <td>0.14250</td>\n",
       "      <td>0</td>\n",
       "    </tr>\n",
       "    <tr>\n",
       "      <th>4</th>\n",
       "      <td>20.29</td>\n",
       "      <td>14.34</td>\n",
       "      <td>135.10</td>\n",
       "      <td>1297.0</td>\n",
       "      <td>0.10030</td>\n",
       "      <td>0</td>\n",
       "    </tr>\n",
       "  </tbody>\n",
       "</table>\n",
       "</div>"
      ],
      "text/plain": [
       "   mean_radius  mean_texture  mean_perimeter  mean_area  mean_smoothness  \\\n",
       "0        17.99         10.38          122.80     1001.0          0.11840   \n",
       "1        20.57         17.77          132.90     1326.0          0.08474   \n",
       "2        19.69         21.25          130.00     1203.0          0.10960   \n",
       "3        11.42         20.38           77.58      386.1          0.14250   \n",
       "4        20.29         14.34          135.10     1297.0          0.10030   \n",
       "\n",
       "   diagnosis  \n",
       "0          0  \n",
       "1          0  \n",
       "2          0  \n",
       "3          0  \n",
       "4          0  "
      ]
     },
     "execution_count": 43,
     "metadata": {},
     "output_type": "execute_result"
    }
   ],
   "source": [
    "df.head()"
   ]
  },
  {
   "cell_type": "code",
   "execution_count": 44,
   "id": "8d29667a",
   "metadata": {},
   "outputs": [
    {
     "data": {
      "text/plain": [
       "Index(['mean_radius', 'mean_texture', 'mean_perimeter', 'mean_area',\n",
       "       'mean_smoothness', 'diagnosis'],\n",
       "      dtype='object')"
      ]
     },
     "execution_count": 44,
     "metadata": {},
     "output_type": "execute_result"
    }
   ],
   "source": [
    "df.columns"
   ]
  },
  {
   "cell_type": "markdown",
   "id": "204f0354",
   "metadata": {},
   "source": [
    "Basic EDA"
   ]
  },
  {
   "cell_type": "code",
   "execution_count": 45,
   "id": "ddf3bc0a",
   "metadata": {},
   "outputs": [
    {
     "data": {
      "text/plain": [
       "<AxesSubplot:>"
      ]
     },
     "execution_count": 45,
     "metadata": {},
     "output_type": "execute_result"
    },
    {
     "data": {
      "image/png": "[encoded data removed]",
      "text/plain": [
       "<Figure size 432x288 with 1 Axes>"
      ]
     },
     "metadata": {
      "needs_background": "light"
     },
     "output_type": "display_data"
    }
   ],
   "source": [
    "df['diagnosis'].hist()"
   ]
  },
  {
   "cell_type": "markdown",
   "id": "64b29234",
   "metadata": {},
   "source": [
    "Checking if the features are independent."
   ]
  },
  {
   "cell_type": "code",
   "execution_count": 46,
   "id": "181442b8",
   "metadata": {},
   "outputs": [
    {
     "data": {
      "text/plain": [
       "<AxesSubplot:>"
      ]
     },
     "execution_count": 46,
     "metadata": {},
     "output_type": "execute_result"
    },
    {
     "data": {
      "image/png": "[encoded data removed]",
      "text/plain": [
       "<Figure size 432x288 with 2 Axes>"
      ]
     },
     "metadata": {
      "needs_background": "light"
     },
     "output_type": "display_data"
    }
   ],
   "source": [
    "corr= df.iloc[:,:-1].corr(method=\"pearson\")\n",
    "cmap = sns.diverging_palette(200, 300, 50, 60, center=\"dark\", as_cmap=True)\n",
    "sns.heatmap(corr, vmax=1, vmin=-.5, cmap=cmap, square=True, linewidths=.2)"
   ]
  },
  {
   "cell_type": "code",
   "execution_count": 47,
   "id": "7cead29d",
   "metadata": {},
   "outputs": [
    {
     "data": {
      "text/plain": [
       "Index(['mean_radius', 'mean_texture', 'mean_perimeter', 'mean_area',\n",
       "       'mean_smoothness', 'diagnosis'],\n",
       "      dtype='object')"
      ]
     },
     "execution_count": 47,
     "metadata": {},
     "output_type": "execute_result"
    }
   ],
   "source": [
    "df.columns"
   ]
  },
  {
   "cell_type": "code",
   "execution_count": 48,
   "id": "cc001606",
   "metadata": {},
   "outputs": [],
   "source": [
    "df=df[['mean_radius', 'mean_texture','mean_smoothness', 'diagnosis']]"
   ]
  },
  {
   "cell_type": "markdown",
   "id": "df71a9c2",
   "metadata": {},
   "source": [
    "Since the data is continuous, we need to test methods we can use to manage this.\n",
    "Here we are seeing if normal distribution can be approximated into these ditributions."
   ]
  },
  {
   "cell_type": "code",
   "execution_count": 49,
   "id": "48529432",
   "metadata": {},
   "outputs": [
    {
     "data": {
      "text/plain": [
       "<AxesSubplot:xlabel='mean_smoothness', ylabel='Count'>"
      ]
     },
     "execution_count": 49,
     "metadata": {},
     "output_type": "execute_result"
    },
    {
     "data": {
      "image/png": "[encoded data removed]",
      "text/plain": [
       "<Figure size 1296x1080 with 3 Axes>"
      ]
     },
     "metadata": {
      "needs_background": "light"
     },
     "output_type": "display_data"
    }
   ],
   "source": [
    "fig,axes=plt.subplots(3,1, figsize=(18,15), sharey=True)\n",
    "sns.histplot(df, ax=axes[0], x=\"mean_radius\",kde=True, color=\"r\")\n",
    "sns.histplot(df, ax=axes[1], x=\"mean_texture\", kde=True, color=\"r\")\n",
    "sns.histplot(df, ax=axes[2], x=\"mean_smoothness\", kde=True, color=\"r\")"
   ]
  },
  {
   "cell_type": "markdown",
   "id": "9318e9cc",
   "metadata": {},
   "source": [
    "mean_texture and mean_smoothness graphs are clearly normal distributions.\n",
    "For simplicity we are treating mean_radius too as as a normal distribution."
   ]
  },
  {
   "cell_type": "markdown",
   "id": "cccc2605",
   "metadata": {},
   "source": [
    "# Calculate P(Y=y) for all possible y"
   ]
  },
  {
   "cell_type": "code",
   "execution_count": 50,
   "id": "d14c7c7b",
   "metadata": {},
   "outputs": [],
   "source": [
    "def calculate_prior(df, Y):\n",
    "    classes= sorted(list(df[Y].unique()))\n",
    "    prior=[]\n",
    "    for i in classes:\n",
    "        prior.append(len(df[df==i])/len(df))\n",
    "    return prior"
   ]
  },
  {
   "cell_type": "markdown",
   "id": "def6ec9e",
   "metadata": {},
   "source": [
    "# Approach 1: Calculate P(X=x|Y=y) using Gaussian dist."
   ]
  },
  {
   "cell_type": "code",
   "execution_count": 51,
   "id": "1af81bb8",
   "metadata": {},
   "outputs": [],
   "source": [
    "def calculate_likelihood_gaussian(df, feat_name, feat_val, Y, label):\n",
    "    feat= list(df.columns)\n",
    "    df= df[df[Y]==label]\n",
    "    mean, std = df[feat_name].mean(), df[feat_name].std()\n",
    "    p_x_given_y = (1/(np.sqrt(2*np.pi)*std)) * np.exp(-((feat_val-mean)**2/(2*std**2)))\n",
    "    return p_x_given_y"
   ]
  },
  {
   "cell_type": "markdown",
   "id": "3117f798",
   "metadata": {},
   "source": [
    "# Calculate P(X=x1|Y=y)P(X=x2|Y=y)P(X=x3|Y=y)...P(X=xn|Y=y) * P(Y=y) for all y and find the maximum"
   ]
  },
  {
   "cell_type": "code",
   "execution_count": 52,
   "id": "972c8700",
   "metadata": {},
   "outputs": [],
   "source": [
    "def naive_bayes_gaussian(df, X, Y):\n",
    "    \n",
    "    # get features name\n",
    "    features= list(df.columns)[:-1]\n",
    "    \n",
    "    # calculate prior\n",
    "    prior= calculate_prior(df, Y)\n",
    "    \n",
    "    Y_pred=[]\n",
    "    #loop over every data smaple\n",
    "    for x in X:\n",
    "        #calculate likelihood\n",
    "        labels= sorted(list(df[Y].unique()))\n",
    "        likelihood=[1]*len(labels)\n",
    "        for j in range(len(labels)):\n",
    "            for i in range(len(features)):\n",
    "                likelihood[j] *= calculate_likelihood_gaussian(df, features[i], x[i], Y, labels[j])                \n",
    "        #Calculate posterior probability\n",
    "        post_prob =[1]*len(labels)\n",
    "                \n",
    "        for j in range(len(labels)):        \n",
    "            post_prob[j]= likelihood[j] * prior[j]            \n",
    "                \n",
    "        Y_pred.append(np.argmax(post_prob))\n",
    "        \n",
    "    return(np.array(Y_pred))\n",
    "        "
   ]
  },
  {
   "cell_type": "markdown",
   "id": "e8c0fee4",
   "metadata": {},
   "source": [
    "# Test Gaussian Model"
   ]
  },
  {
   "cell_type": "code",
   "execution_count": 53,
   "id": "ab0e717d",
   "metadata": {},
   "outputs": [],
   "source": [
    "from sklearn.model_selection import train_test_split\n",
    "train, test = train_test_split(df, test_size=.2, random_state=41)\n",
    "\n",
    "X_test = test.iloc[:,:-1].values\n",
    "Y_test = test.iloc[:,-1].values"
   ]
  },
  {
   "cell_type": "code",
   "execution_count": 54,
   "id": "cad5f85b",
   "metadata": {
    "scrolled": true
   },
   "outputs": [],
   "source": [
    "Y_pred = naive_bayes_gaussian(train, X=X_test, Y=\"diagnosis\")"
   ]
  },
  {
   "cell_type": "code",
   "execution_count": 55,
   "id": "e50aa526",
   "metadata": {},
   "outputs": [
    {
     "name": "stdout",
     "output_type": "stream",
     "text": [
      "[[40  0]\n",
      " [ 3 71]]\n",
      "0.9793103448275862\n"
     ]
    }
   ],
   "source": [
    "from sklearn.metrics import confusion_matrix, f1_score\n",
    "print(confusion_matrix(Y_test, Y_pred))\n",
    "print(f1_score(Y_test, Y_pred))\n"
   ]
  },
  {
   "cell_type": "markdown",
   "id": "7d3c7f23",
   "metadata": {},
   "source": [
    "# Approach 2: Convert continuous features to categorical features"
   ]
  },
  {
   "cell_type": "code",
   "execution_count": 56,
   "id": "2237e880",
   "metadata": {},
   "outputs": [],
   "source": [
    "#Binning bing done here\n",
    "df[\"cat_mean_radius\"]=pd.cut(df[\"mean_radius\"].values, bins=3, labels=[0, 1, 2])\n",
    "df[\"cat_mean_texture\"]=pd.cut(df[\"mean_texture\"].values, bins=3, labels=[0, 1, 2])\n",
    "df[\"cat_mean_smoothness\"]=pd.cut(df[\"mean_smoothness\"].values, bins=3, labels=[0, 1, 2])\n"
   ]
  },
  {
   "cell_type": "code",
   "execution_count": 57,
   "id": "df87d445",
   "metadata": {},
   "outputs": [],
   "source": [
    "df=df[['cat_mean_radius', 'cat_mean_texture', 'cat_mean_smoothness', 'diagnosis',]]"
   ]
  },
  {
   "cell_type": "code",
   "execution_count": 58,
   "id": "77cacf9c",
   "metadata": {},
   "outputs": [],
   "source": [
    "def calculate_likelihood_categorical(df, feat_name, feat_val, Y, label):\n",
    "    feat=list(df.columns)\n",
    "    df = df[df[Y]==label]\n",
    "    p_x_given_y = len(df[df[feat_name]==feat_val])/len(df)\n",
    "    \n",
    "    return p_x_given_y    "
   ]
  },
  {
   "cell_type": "markdown",
   "id": "b8074764",
   "metadata": {},
   "source": [
    "# Approach 2: Calculate P(X=x|Y=y) categorically"
   ]
  },
  {
   "cell_type": "code",
   "execution_count": 64,
   "id": "9de7994c",
   "metadata": {},
   "outputs": [],
   "source": [
    "def calculate_likelihood_categorical(df, feat_name, feat_val, Y, label):\n",
    "    feat= list(df.columns)\n",
    "    df= df[df[Y]==label]\n",
    "    p_x_given_y= len(df[df[feat_name]==feat_val])/len(df)\n",
    "    return p_x_given_y"
   ]
  },
  {
   "cell_type": "code",
   "execution_count": 67,
   "id": "f34dceae",
   "metadata": {},
   "outputs": [],
   "source": [
    "def naive_bayes_categorical(df, X, Y):\n",
    "    \n",
    "    # get features name\n",
    "    features= list(df.columns)[:-1]\n",
    "    \n",
    "    # calculate prior\n",
    "    prior= calculate_prior(df, Y)\n",
    "    \n",
    "    Y_pred=[]\n",
    "    #loop over every data smaple\n",
    "    for x in X:\n",
    "        #calculate likelihood\n",
    "        labels= sorted(list(df[Y].unique()))\n",
    "        likelihood=[1]*len(labels)\n",
    "        for j in range(len(labels)):\n",
    "            for i in range(len(features)):\n",
    "                likelihood[j]*= calculate_likelihood_categorical(df, features[i], x[i], Y, labels[j])\n",
    "                \n",
    "        #Calculate posterior probability\n",
    "        post_prob =[1]*len(labels)\n",
    "                \n",
    "        for j in range(len(labels)):        \n",
    "            post_prob[j]= likelihood[j] * prior[j]            \n",
    "                \n",
    "        Y_pred.append(np.argmax(post_prob))\n",
    "        \n",
    "    return(np.array(Y_pred))\n",
    "        "
   ]
  },
  {
   "cell_type": "code",
   "execution_count": 68,
   "id": "0cacfc38",
   "metadata": {},
   "outputs": [
    {
     "name": "stdout",
     "output_type": "stream",
     "text": [
      "[[38  2]\n",
      " [ 5 69]]\n",
      "0.9517241379310345\n"
     ]
    }
   ],
   "source": [
    "from sklearn.model_selection import train_test_split\n",
    "train, test = train_test_split(df, test_size=.2, random_state=41)\n",
    "\n",
    "X_test = test.iloc[:,:-1].values\n",
    "Y_test = test.iloc[:,-1].values\n",
    "\n",
    "Y_pred = naive_bayes_categorical(train, X=X_test, Y=\"diagnosis\")\n",
    "from sklearn.metrics import confusion_matrix, f1_score\n",
    "print(confusion_matrix(Y_test, Y_pred))\n",
    "print(f1_score(Y_test, Y_pred))\n"
   ]
  },
  {
   "cell_type": "code",
   "execution_count": null,
   "id": "e4d49507",
   "metadata": {},
   "outputs": [],
   "source": []
  }
 ],
 "metadata": {
  "kernelspec": {
   "display_name": "Python 3",
   "language": "python",
   "name": "python3"
  },
  "language_info": {
   "codemirror_mode": {
    "name": "ipython",
    "version": 3
   },
   "file_extension": ".py",
   "mimetype": "text/x-python",
   "name": "python",
   "nbconvert_exporter": "python",
   "pygments_lexer": "ipython3",
   "version": "3.8.8"
  }
 },
 "nbformat": 4,
 "nbformat_minor": 5
}
