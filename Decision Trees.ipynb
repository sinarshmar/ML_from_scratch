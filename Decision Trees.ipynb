{
 "cells": [
  {
   "cell_type": "code",
   "execution_count": 5,
   "id": "f70c30ee",
   "metadata": {},
   "outputs": [],
   "source": [
    "import numpy as np\n",
    "import pandas as pd"
   ]
  },
  {
   "cell_type": "markdown",
   "id": "280652f1",
   "metadata": {},
   "source": [
    "# Get the data"
   ]
  },
  {
   "cell_type": "code",
   "execution_count": 6,
   "id": "8f54487e",
   "metadata": {},
   "outputs": [
    {
     "data": {
      "text/html": [
       "<div>\n",
       "<style scoped>\n",
       "    .dataframe tbody tr th:only-of-type {\n",
       "        vertical-align: middle;\n",
       "    }\n",
       "\n",
       "    .dataframe tbody tr th {\n",
       "        vertical-align: top;\n",
       "    }\n",
       "\n",
       "    .dataframe thead th {\n",
       "        text-align: right;\n",
       "    }\n",
       "</style>\n",
       "<table border=\"1\" class=\"dataframe\">\n",
       "  <thead>\n",
       "    <tr style=\"text-align: right;\">\n",
       "      <th></th>\n",
       "      <th>SepalLengthCm</th>\n",
       "      <th>SepalWidthCm</th>\n",
       "      <th>PetalLengthCm</th>\n",
       "      <th>PetalWidthCm</th>\n",
       "      <th>Species</th>\n",
       "    </tr>\n",
       "  </thead>\n",
       "  <tbody>\n",
       "    <tr>\n",
       "      <th>1</th>\n",
       "      <td>5.1</td>\n",
       "      <td>3.5</td>\n",
       "      <td>1.4</td>\n",
       "      <td>0.2</td>\n",
       "      <td>Iris-setosa</td>\n",
       "    </tr>\n",
       "    <tr>\n",
       "      <th>2</th>\n",
       "      <td>4.9</td>\n",
       "      <td>3.0</td>\n",
       "      <td>1.4</td>\n",
       "      <td>0.2</td>\n",
       "      <td>Iris-setosa</td>\n",
       "    </tr>\n",
       "    <tr>\n",
       "      <th>3</th>\n",
       "      <td>4.7</td>\n",
       "      <td>3.2</td>\n",
       "      <td>1.3</td>\n",
       "      <td>0.2</td>\n",
       "      <td>Iris-setosa</td>\n",
       "    </tr>\n",
       "    <tr>\n",
       "      <th>4</th>\n",
       "      <td>4.6</td>\n",
       "      <td>3.1</td>\n",
       "      <td>1.5</td>\n",
       "      <td>0.2</td>\n",
       "      <td>Iris-setosa</td>\n",
       "    </tr>\n",
       "    <tr>\n",
       "      <th>5</th>\n",
       "      <td>5.0</td>\n",
       "      <td>3.6</td>\n",
       "      <td>1.4</td>\n",
       "      <td>0.2</td>\n",
       "      <td>Iris-setosa</td>\n",
       "    </tr>\n",
       "    <tr>\n",
       "      <th>6</th>\n",
       "      <td>5.4</td>\n",
       "      <td>3.9</td>\n",
       "      <td>1.7</td>\n",
       "      <td>0.4</td>\n",
       "      <td>Iris-setosa</td>\n",
       "    </tr>\n",
       "    <tr>\n",
       "      <th>7</th>\n",
       "      <td>4.6</td>\n",
       "      <td>3.4</td>\n",
       "      <td>1.4</td>\n",
       "      <td>0.3</td>\n",
       "      <td>Iris-setosa</td>\n",
       "    </tr>\n",
       "    <tr>\n",
       "      <th>8</th>\n",
       "      <td>5.0</td>\n",
       "      <td>3.4</td>\n",
       "      <td>1.5</td>\n",
       "      <td>0.2</td>\n",
       "      <td>Iris-setosa</td>\n",
       "    </tr>\n",
       "    <tr>\n",
       "      <th>9</th>\n",
       "      <td>4.4</td>\n",
       "      <td>2.9</td>\n",
       "      <td>1.4</td>\n",
       "      <td>0.2</td>\n",
       "      <td>Iris-setosa</td>\n",
       "    </tr>\n",
       "    <tr>\n",
       "      <th>10</th>\n",
       "      <td>4.9</td>\n",
       "      <td>3.1</td>\n",
       "      <td>1.5</td>\n",
       "      <td>0.1</td>\n",
       "      <td>Iris-setosa</td>\n",
       "    </tr>\n",
       "  </tbody>\n",
       "</table>\n",
       "</div>"
      ],
      "text/plain": [
       "    SepalLengthCm  SepalWidthCm  PetalLengthCm  PetalWidthCm      Species\n",
       "1             5.1           3.5            1.4           0.2  Iris-setosa\n",
       "2             4.9           3.0            1.4           0.2  Iris-setosa\n",
       "3             4.7           3.2            1.3           0.2  Iris-setosa\n",
       "4             4.6           3.1            1.5           0.2  Iris-setosa\n",
       "5             5.0           3.6            1.4           0.2  Iris-setosa\n",
       "6             5.4           3.9            1.7           0.4  Iris-setosa\n",
       "7             4.6           3.4            1.4           0.3  Iris-setosa\n",
       "8             5.0           3.4            1.5           0.2  Iris-setosa\n",
       "9             4.4           2.9            1.4           0.2  Iris-setosa\n",
       "10            4.9           3.1            1.5           0.1  Iris-setosa"
      ]
     },
     "execution_count": 6,
     "metadata": {},
     "output_type": "execute_result"
    }
   ],
   "source": [
    "col_names= [\"SepalLengthCm\", \"SepalWidthCm\", \"PetalLengthCm\", \"PetalWidthCm\", \"Species\"]\n",
    "\n",
    "data=pd.read_csv(\"C:\\\\Users\\\\Utkarsh\\Downloads\\data\\iris.csv\", skiprows=1, header=None, names=col_names)\n",
    "data.head(10)"
   ]
  },
  {
   "cell_type": "code",
   "execution_count": 7,
   "id": "4faa81dd",
   "metadata": {},
   "outputs": [
    {
     "data": {
      "text/plain": [
       "array(['Iris-setosa', 'Iris-versicolor', 'Iris-virginica'], dtype=object)"
      ]
     },
     "execution_count": 7,
     "metadata": {},
     "output_type": "execute_result"
    }
   ],
   "source": [
    "# There are three types of irsir flowers.\n",
    "\n",
    "data[\"Species\"].unique()"
   ]
  },
  {
   "cell_type": "markdown",
   "id": "0f11aecf",
   "metadata": {},
   "source": [
    "# Object oriented programming will be used here."
   ]
  },
  {
   "cell_type": "markdown",
   "id": "b430f8ee",
   "metadata": {},
   "source": [
    "# Node class"
   ]
  },
  {
   "cell_type": "code",
   "execution_count": 63,
   "id": "faafa0e6",
   "metadata": {},
   "outputs": [],
   "source": [
    "class Node():\n",
    "    def __init__(self, feature_index=None, Threshold=None, left=None, right=None, info_gain=None, value=None):\n",
    "        '''Constructor'''\n",
    "                \n",
    "        #for decision node\n",
    "        self.feature_index= feature_index\n",
    "        self.Threshold= Threshold\n",
    "        self.left= left\n",
    "        self.right= right\n",
    "        self.info_gain= info_gain        \n",
    "                \n",
    "        # for leaf node\n",
    "        self.value= value\n",
    "            "
   ]
  },
  {
   "cell_type": "markdown",
   "id": "e12620eb",
   "metadata": {},
   "source": [
    "# Tree class"
   ]
  },
  {
   "cell_type": "code",
   "execution_count": 74,
   "id": "48761741",
   "metadata": {},
   "outputs": [],
   "source": [
    "class DecisionTreeClassifier():\n",
    "    \n",
    "    def __init__(self, min_samples_split=2, max_depth=2):\n",
    "        '''Constructor'''\n",
    "        \n",
    "        #initialize the root of the tree\n",
    "        self.root= None\n",
    "        \n",
    "        #stopping conditions\n",
    "        \n",
    "        #minimum required items in every node after a split\n",
    "        self.min_samples_split = min_samples_split\n",
    "        \n",
    "        #max depth of the tree\n",
    "        self.max_depth = max_depth\n",
    "        \n",
    "    def build_tree(self, dataset, curr_depth=0):\n",
    "        '''recursive fucntion to build the tree'''\n",
    "        \n",
    "        X, Y= dataset[:,:-1], dataset[:,-1]\n",
    "        num_samples, num_features= np.shape(X)\n",
    "        \n",
    "        if num_samples>=self.min_samples_split and curr_depth<= self.max_depth:\n",
    "            \n",
    "            #find the best split\n",
    "            best_split= self.get_best_split(dataset, num_samples, num_features)\n",
    "            \n",
    "            #Checking if the info gain is +ve\n",
    "            if(best_split[\"info_gain\"]>0):\n",
    "                \n",
    "                #left tree\n",
    "                left_subtree= self.build_tree(self, best_split[\"dataset_left\"], curr_depth+1)\n",
    "                \n",
    "                #right tree\n",
    "                right_subtree= self.build_tree(self, best_split[\"dataset_right\"], curr_depth+1)\n",
    "                \n",
    "                #return decision node\n",
    "                return Node(best_split[\"feature_index\"], best_split[\"threshold\"], left_subtree,\n",
    "                            right_subtree, best_split[\"info_gain\"])\n",
    "            \n",
    "            #calculate leaf node\n",
    "            leaf_value= self.calculate_leaf_value(Y)\n",
    "            \n",
    "            #return leaf node\n",
    "            return(Node(value=leaf_value))\n",
    "                    \n",
    "    def get_best_split(self, dataset, num_samples, num_features):        \n",
    "        '''Function to find the best split'''\n",
    "        \n",
    "        #dictionary to store the best split\n",
    "        best_split = {}\n",
    "        \n",
    "        '''-ve infinity is initialised. This is because we want to maximise the information gain and \n",
    "        to do that we need a number less than any other number.'''\n",
    "        max_info_gain = -float(\"inf\")\n",
    "        \n",
    "        \n",
    "        '''Features are real numbers and they are infinite between any two numbers. Sp to find the threshold we \n",
    "        can't iterate infinite times. Instead we ietrate over tha values of features we have in our dataset'''\n",
    "        for feature_index in range(num_features):\n",
    "            \n",
    "            feature_values= dataset[:, feature_index]\n",
    "            possible_thresholds= np.unique(feature_values)\n",
    "            \n",
    "            for threshold in possible_thresholds:\n",
    "                \n",
    "                #get current split \n",
    "                dataset_left, dataset_right = self.split(dataset, feature_index, threshold)\n",
    "                \n",
    "                #Check if the child are null\n",
    "                if len(dataset_left)>0 and len(dataset_right)>0:\n",
    "                    y, left_y, right_y = dataset[:,-1], dataset[:,-1], dataset[:,-1]\n",
    "                    \n",
    "                    #compute information gain\n",
    "                    curr_info_gain = self.information_gain(y, left_y, right_y, \"gini\")\n",
    "                    \n",
    "                    if curr_info_gain > max_info_gain:\n",
    "                        best_split[\"feature_index\"]=feature_index\n",
    "                        best_split[\"threshold\"]=threshold\n",
    "                        best_split[\"dataset_left\"]=dataset_left\n",
    "                        best_split[\"dataset_right\"]=dataset_right\n",
    "                        best_split[\"info_gain\"]= curr_info_gain\n",
    "                        max_info_gain = curr_info_gain\n",
    "                        \n",
    "            #return best split\n",
    "            return best_split\n",
    "    \n",
    "    def split(self, dataset, feature_index, threshold):\n",
    "        '''function to split the data'''\n",
    "        \n",
    "        dataset_left= np.array([row for row in dataset if row[feature_index]<=threshold])\n",
    "        dataset_right= np.array([row for row in dataset if row[feature_index]>threshold])\n",
    "        \n",
    "        return dataset_left, dataset_right\n",
    "                        \n",
    "    \n",
    "    def information_gain(self, parent, l_child, r_child, mode=\"entropy\"):\n",
    "        '''function to compute information gain'''\n",
    "        \n",
    "        weight_l= len(l_child)/len(parent)\n",
    "        weight_r= len(r_child)/len(parent)\n",
    "        \n",
    "        if mode==\"gini\":\n",
    "            gain= self.gini_index(parent) - (weight_l * self.gini_index(l_child) + weight_r * self.gini_index(r_child))\n",
    "        \n",
    "        else:\n",
    "            gain = self.entropy(parent) - (weight_l * self.entropy(l_child) + weight_r * self.entropy(r_child))            \n",
    "        return gain\n",
    "            \n",
    "    \n",
    "    def entropy(self, y):\n",
    "        '''function to compute entropy'''\n",
    "        \n",
    "        class_labels= np.unique(y)\n",
    "        entropy =0\n",
    "        for cls in class_labels:\n",
    "            p_cls = len(y[y==cls])/ len(y)\n",
    "            entropy += -p_cls * np.log2(p_cls)\n",
    "                        \n",
    "        return entropy\n",
    "    \n",
    "    def gini_index(self, y):\n",
    "        ''' function to compute gini index '''\n",
    "        \n",
    "        class_labels = np.unique(y)\n",
    "        gini = 0\n",
    "        for cls in class_labels:\n",
    "            p_cls = len(y[y == cls]) / len(y)\n",
    "            gini += p_cls**2\n",
    "        return 1 - gini\n",
    "    \n",
    "    def calculate_leaf_value(self, Y):\n",
    "        '''function to cmppute leaf node'''\n",
    "        \n",
    "        Y= list(Y)\n",
    "        return max(Y, key=Y.count)\n",
    "    \n",
    "    def print_tree(self, tree=None, indent=\" \"):\n",
    "        '''function to print the tree'''\n",
    "        \n",
    "        if not tree:\n",
    "            tree= self.root\n",
    "            \n",
    "        if tree.value is not None:\n",
    "            print(tree.value)\n",
    "            \n",
    "        else:\n",
    "        \n",
    "            print(\"X_\"+str(tree.feature_index), \"<=\", tree.threshold, \"?\", tree.info_gain)\n",
    "            print(\"%sleft:\" % (indent), end=\"\")\n",
    "            self.print_tree(tree.left, indent + indent)\n",
    "            print(\"%sright:\" % (indent), end=\"\")\n",
    "            self.print_tree(tree.right, indent + indent)\n",
    "            \n",
    "    def fit(self, X, Y):\n",
    "        \n",
    "        dataset= np.concatenate((X,Y), axis=1)\n",
    "        self.root = self.build_tree(dataset)\n",
    "        \n",
    "    def predict(self, X):\n",
    "        '''function to predict new dataset'''\n",
    "        \n",
    "        predictions = [self.make_prediction(x, self.root) for x in X]\n",
    "        return predictions\n",
    "    \n",
    "    def make_prediction(self, x, tree):\n",
    "        \n",
    "        if tree.value!= None:\n",
    "            return tree.value\n",
    "        \n",
    "        feature_val= x[tree.feature_index]\n",
    "        \n",
    "        if feature_val <= tree.threshold:\n",
    "            return self.make_prediction(x, tree.left)\n",
    "        else:\n",
    "            return self.make_prediction(x, tree.right)\n",
    "                "
   ]
  },
  {
   "cell_type": "markdown",
   "id": "c4061c58",
   "metadata": {},
   "source": [
    "# Train test split"
   ]
  },
  {
   "cell_type": "code",
   "execution_count": 75,
   "id": "b6927276",
   "metadata": {},
   "outputs": [],
   "source": [
    "X = data.iloc[:, :-1].values\n",
    "Y = data.iloc[:, -1].values.reshape(-1,1)\n",
    "from sklearn.model_selection import train_test_split\n",
    "X_train, X_test, Y_train, Y_test = train_test_split(X, Y, test_size=.2, random_state=41)"
   ]
  },
  {
   "cell_type": "markdown",
   "id": "53f10e0e",
   "metadata": {},
   "source": [
    "# Fit the model"
   ]
  },
  {
   "cell_type": "code",
   "execution_count": 76,
   "id": "d0eeb73b",
   "metadata": {},
   "outputs": [
    {
     "name": "stdout",
     "output_type": "stream",
     "text": [
      "Iris-setosa\n"
     ]
    }
   ],
   "source": [
    "classifier = DecisionTreeClassifier(min_samples_split=3, max_depth=3)\n",
    "classifier.fit(X_train, Y_train)\n",
    "classifier.print_tree()"
   ]
  },
  {
   "cell_type": "markdown",
   "id": "c4f63f74",
   "metadata": {},
   "source": [
    "# Test the model"
   ]
  },
  {
   "cell_type": "code",
   "execution_count": 78,
   "id": "f156f26c",
   "metadata": {},
   "outputs": [
    {
     "data": {
      "text/plain": [
       "0.3"
      ]
     },
     "execution_count": 78,
     "metadata": {},
     "output_type": "execute_result"
    }
   ],
   "source": [
    "Y_pred = classifier.predict(X_test)\n",
    "from sklearn.metrics import accuracy_score\n",
    "accuracy_score(Y_test, Y_pred)"
   ]
  }
 ],
 "metadata": {
  "kernelspec": {
   "display_name": "Python 3",
   "language": "python",
   "name": "python3"
  },
  "language_info": {
   "codemirror_mode": {
    "name": "ipython",
    "version": 3
   },
   "file_extension": ".py",
   "mimetype": "text/x-python",
   "name": "python",
   "nbconvert_exporter": "python",
   "pygments_lexer": "ipython3",
   "version": "3.8.8"
  }
 },
 "nbformat": 4,
 "nbformat_minor": 5
}
